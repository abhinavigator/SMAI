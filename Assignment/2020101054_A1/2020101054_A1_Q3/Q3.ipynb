{
 "cells": [
  {
   "cell_type": "markdown",
   "metadata": {
    "id": "NBjekUKKzDg3"
   },
   "source": [
    "# Assignment 1\n",
    "\n",
    "## Question 3 (Linear Regression)\n",
    "\n",
    "This assignment will have you working and experimenting with linear regression. The general multiple linear regression model, given $p$ predictors, is defined as: $$Y=\\beta_0+\\beta_1X_1+\\beta_2X_2+...+\\beta_pX_p+\\epsilon,$$ where $Y$ is the response variable, $X_j$ is the $j$<sup>th</sup> predictor and $\\beta_j$ quantifies the association between the response and the variable. A good way to think about $\\beta_j$ is as the average effect on $Y$ of a one unit increase in $X_j$, holding all other predictors fixed. The $\\epsilon$ term is the error term, which is independent of $X$ and has mean zero (the expected value of $Y$ when all variables are set to zero).\n",
    "\n",
    "Work with Numpy only and do not use library functions that directly perform model fitting like `np.polyfit`. However, you may use library functions to compare your results while experimenting. This assignment becomes much easier to complete if accompanied by reading the third chapter in An Introduction to Statistical Learning. The text is freely available for download on the internet at [statlearning.com](statlearning.com)\n",
    "\n",
    "Reference: James, G., Witten, D., Hastie, T., Tibshirani, R., Taylor, J. (2023). Linear Regression. In: An Introduction to Statistical Learning. Springer Texts in Statistics. Springer, Cham. https://doi.org/10.1007/978-3-031-38747-0_3"
   ]
  },
  {
   "cell_type": "markdown",
   "metadata": {
    "id": "5j_YEOpDzJDk"
   },
   "source": [
    "### Imports"
   ]
  },
  {
   "cell_type": "code",
   "execution_count": 2,
   "metadata": {
    "id": "zjmte2ZLzH4Q"
   },
   "outputs": [],
   "source": [
    "import numpy as np\n",
    "import matplotlib.pyplot as plt\n",
    "import pandas as pd\n",
    "\n",
    "# other imports if necessary"
   ]
  },
  {
   "cell_type": "markdown",
   "metadata": {
    "id": "AjVF377ozMjX"
   },
   "source": [
    "### Part 1: Simple Regression\n",
    "\n",
    "In this part, the function `gen_data()` samples hundred data points from a random 25 degree single-variable polynomial. This data is stored in the `predictor` and `response` variables. Your task is to experiment with linear regression on this dataset. Specifically:\n",
    "\n",
    "1. Fit a line to the curve $(y=\\beta_1x+\\beta_0)$\n",
    "2. Fit a polynomial to the curve $(y=\\sum_{0}^{k}\\beta_kx^k)$ and choose $k$ that satisfactorily minimizes error.\n",
    "    - Note that the original polynomial is a 25 degree polynomial and we might not need exactly that many.\n",
    "    - Check how well the coefficients match when we try to fit a 25 degree polynomial to the data. Get the coefficients from the `gen_data()` function.\n",
    "\n",
    "Report error metrics for all experiments in tabular form (or any other way that helps us compare and choose between the different methods)\n",
    "\n"
   ]
  },
  {
   "cell_type": "code",
   "execution_count": 3,
   "metadata": {
    "id": "9MjixImKzL9Y"
   },
   "outputs": [
    {
     "data": {
      "image/png": "[encoded data removed]",
      "text/plain": [
       "<Figure size 640x480 with 1 Axes>"
      ]
     },
     "metadata": {},
     "output_type": "display_data"
    }
   ],
   "source": [
    "def gen_data():\n",
    "    coeff = np.random.rand(26)\n",
    "    x = np.linspace(-1.1, 0.9, 100)\n",
    "    y = np.zeros_like(x)\n",
    "    for i, c in enumerate(coeff):\n",
    "        y += c * x**i\n",
    "    y += np.random.randn(100) * 0.1\n",
    "\n",
    "    return x, y\n",
    "\n",
    "predictor, response = gen_data()\n",
    "\n",
    "plt.plot(predictor, response, 'r+')\n",
    "plt.xlabel('Predictor')\n",
    "plt.ylabel('Response')\n",
    "plt.title('Sampled Data Points')\n",
    "plt.show()"
   ]
  },
  {
   "cell_type": "code",
   "execution_count": 4,
   "metadata": {},
   "outputs": [],
   "source": [
    "# Linear regression from scratch\n",
    "def linear_regression(X, y):\n",
    "    X_b = np.c_[np.ones((len(X), 1)), X]  \n",
    "    beta = np.linalg.inv(X_b.T.dot(X_b)).dot(X_b.T).dot(y)\n",
    "    return beta  # Returns [beta_0, beta_1]"
   ]
  },
  {
   "cell_type": "code",
   "execution_count": 5,
   "metadata": {},
   "outputs": [],
   "source": [
    "# Calculate MSE\n",
    "def calculate_mse(y, y_pred):\n",
    "    mse = np.mean((y - y_pred)**2)\n",
    "    return mse"
   ]
  },
  {
   "cell_type": "code",
   "execution_count": 6,
   "metadata": {},
   "outputs": [],
   "source": [
    "# Fit and evaluate linear model\n",
    "beta_linear = linear_regression(predictor, response)\n",
    "y_pred_linear = np.c_[np.ones((len(predictor), 1)), predictor].dot(beta_linear)\n",
    "mse_linear = calculate_mse(response, y_pred_linear)"
   ]
  },
  {
   "cell_type": "code",
   "execution_count": 7,
   "metadata": {},
   "outputs": [
    {
     "data": {
      "text/plain": [
       "0.600330044869276"
      ]
     },
     "execution_count": 7,
     "metadata": {},
     "output_type": "execute_result"
    }
   ],
   "source": [
    "mse_linear"
   ]
  },
  {
   "cell_type": "code",
   "execution_count": 8,
   "metadata": {},
   "outputs": [],
   "source": [
    "# Polynomial regression from scratch\n",
    "def polynomial_regression(X, y, degree):\n",
    "    # Generating the design matrix for polynomial of given degree\n",
    "    X_poly = np.ones((len(X), 1))  # Start with a column of ones for beta_0\n",
    "    for i in range(1, degree + 1):\n",
    "        X_poly = np.c_[X_poly, np.power(X, i)]\n",
    "    \n",
    "    beta = np.linalg.inv(X_poly.T.dot(X_poly)).dot(X_poly.T).dot(y)\n",
    "    \n",
    "    return beta # Returns [beta_0, beta_1, ..., beta_k]\n"
   ]
  },
  {
   "cell_type": "code",
   "execution_count": 9,
   "metadata": {},
   "outputs": [],
   "source": [
    "# Fit and evaluate polynomial model\n",
    "degree_poly = 5  # Example degree\n",
    "beta_poly = polynomial_regression(predictor, response, degree_poly)\n",
    "X_poly = np.ones((len(predictor), 1))\n",
    "for i in range(1, degree_poly + 1):\n",
    "    X_poly = np.c_[X_poly, np.power(predictor, i)]\n",
    "y_pred_poly = X_poly.dot(beta_poly)\n",
    "mse_poly = calculate_mse(response, y_pred_poly)\n"
   ]
  },
  {
   "cell_type": "code",
   "execution_count": 10,
   "metadata": {},
   "outputs": [
    {
     "data": {
      "text/plain": [
       "0.13798521147785534"
      ]
     },
     "execution_count": 10,
     "metadata": {},
     "output_type": "execute_result"
    }
   ],
   "source": [
    "mse_poly\n",
    "\n"
   ]
  },
  {
   "cell_type": "code",
   "execution_count": 11,
   "metadata": {},
   "outputs": [
    {
     "name": "stdout",
     "output_type": "stream",
     "text": [
      "Linear Regression MSE: 0.600330044869276\n",
      "Polynomial Regression (Degree 5) MSE: 0.13798521147785534\n"
     ]
    }
   ],
   "source": [
    "print(f\"Linear Regression MSE: {mse_linear}\")\n",
    "print(f\"Polynomial Regression (Degree {degree_poly}) MSE: {mse_poly}\")"
   ]
  },
  {
   "cell_type": "code",
   "execution_count": 12,
   "metadata": {},
   "outputs": [
    {
     "data": {
      "image/png": "[encoded data removed]",
      "text/plain": [
       "<Figure size 1000x600 with 1 Axes>"
      ]
     },
     "metadata": {},
     "output_type": "display_data"
    }
   ],
   "source": [
    "# Plotting\n",
    "plt.figure(figsize=(10, 6))\n",
    "\n",
    "# Original data\n",
    "plt.plot(predictor, response, 'r+', label='Original Data')\n",
    "\n",
    "# Linear regression line\n",
    "plt.plot(predictor, y_pred_linear, label='Linear Regression', linewidth=2)\n",
    "\n",
    "# Polynomial regression curve\n",
    "plt.plot(predictor, y_pred_poly, label=f'Polynomial Regression (Degree {degree_poly})', linewidth=2)\n",
    "\n",
    "plt.xlabel('Predictor')\n",
    "plt.ylabel('Response')\n",
    "plt.title('Linear and Polynomial Regression on Sampled Data')\n",
    "plt.legend()\n",
    "plt.show()"
   ]
  },
  {
   "cell_type": "code",
   "execution_count": 13,
   "metadata": {},
   "outputs": [],
   "source": [
    "# evaluating models and reporting results\n",
    "degrees = range(1,26)\n",
    "mse_results = []\n",
    "coefficients = []"
   ]
  },
  {
   "cell_type": "code",
   "execution_count": 14,
   "metadata": {},
   "outputs": [],
   "source": [
    "for degree in degrees:\n",
    "    beta = polynomial_regression(predictor,response,degree)\n",
    "    X_poly = np.ones((len(predictor), 1))\n",
    "    for i in range(1, degree + 1):\n",
    "        X_poly = np.c_[X_poly, np.power(predictor, i)]\n",
    "    y_pred_poly = X_poly.dot(beta)\n",
    "    mse = calculate_mse(response, y_pred_poly)\n",
    "    mse_results.append(mse)\n",
    "    coefficients.append(beta)"
   ]
  },
  {
   "cell_type": "code",
   "execution_count": 15,
   "metadata": {},
   "outputs": [
    {
     "data": {
      "text/plain": [
       "[0.600330044869276,\n",
       " 0.4516809977736244,\n",
       " 0.24638190906413093,\n",
       " 0.24565793821351992,\n",
       " 0.13798521147785534,\n",
       " 0.11363214524637609,\n",
       " 0.055443391368068785,\n",
       " 0.03937841880658621,\n",
       " 0.02066391889369361,\n",
       " 0.014011822906618005,\n",
       " 0.011363371751675346,\n",
       " 0.009561036401824381,\n",
       " 0.009352682352610033,\n",
       " 0.009110693045966359,\n",
       " 0.009110588823992655,\n",
       " 0.00855263913971223,\n",
       " 0.008541854982054677,\n",
       " 0.008460649761295486,\n",
       " 0.008320099866766567,\n",
       " 0.008409095772959509,\n",
       " 0.0581131136511172,\n",
       " 0.015860493210690517,\n",
       " 0.009953660222126152,\n",
       " 0.02366104207408888,\n",
       " 0.06563190066064663]"
      ]
     },
     "execution_count": 15,
     "metadata": {},
     "output_type": "execute_result"
    }
   ],
   "source": [
    "mse_results"
   ]
  },
  {
   "cell_type": "code",
   "execution_count": 16,
   "metadata": {},
   "outputs": [
    {
     "name": "stdout",
     "output_type": "stream",
     "text": [
      "Degree\tMSE\n",
      "1\t0.60033\n",
      "2\t0.45168\n",
      "3\t0.24638\n",
      "4\t0.24566\n",
      "5\t0.13799\n",
      "6\t0.11363\n",
      "7\t0.05544\n",
      "8\t0.03938\n",
      "9\t0.02066\n",
      "10\t0.01401\n",
      "11\t0.01136\n",
      "12\t0.00956\n",
      "13\t0.00935\n",
      "14\t0.00911\n",
      "15\t0.00911\n",
      "16\t0.00855\n",
      "17\t0.00854\n",
      "18\t0.00846\n",
      "19\t0.00832\n",
      "20\t0.00841\n",
      "21\t0.05811\n",
      "22\t0.01586\n",
      "23\t0.00995\n",
      "24\t0.02366\n",
      "25\t0.06563\n"
     ]
    }
   ],
   "source": [
    "# Reporting MSE for each degree\n",
    "print(\"Degree\\tMSE\")\n",
    "for degree, mse in zip(degrees, mse_results):\n",
    "    print(f\"{degree}\\t{mse:.5f}\")"
   ]
  },
  {
   "cell_type": "code",
   "execution_count": 17,
   "metadata": {},
   "outputs": [
    {
     "name": "stdout",
     "output_type": "stream",
     "text": [
      "\n",
      "Comparison of Original and Estimated Coefficients for 25 Degree Polynomial:\n",
      "Original Coefficients: [0.12509642 0.88088851 0.58252647 0.71916421 0.29372421 0.91396738\n",
      " 0.6546382  0.80516137 0.59420685 0.57008084 0.0209295  0.53341437\n",
      " 0.16555457 0.04921941 0.34392012 0.80537884 0.64966189 0.1551516\n",
      " 0.32318009 0.67038803 0.62729547 0.93044001 0.40283567 0.40512175\n",
      " 0.61071077 0.04271579]\n",
      "Estimated Coefficients: [ 1.59249553e-02  1.70594554e+00 -2.34050105e-01 -4.77017069e+01\n",
      "  6.99857146e+00  8.65373879e+02  1.29547222e+02 -7.55555865e+03\n",
      " -2.30157634e+03  3.80555090e+04  1.79683302e+04 -1.17301403e+05\n",
      " -7.73395518e+04  2.16604072e+05  1.88511180e+05 -2.02204881e+05\n",
      " -2.36140444e+05  2.78383264e+03  6.36118088e+04  1.68398045e+05\n",
      "  1.97942202e+05 -1.02398243e+05 -2.32405819e+05 -2.66285971e+04\n",
      "  8.02807379e+04  2.96901134e+04]\n"
     ]
    }
   ],
   "source": [
    "# Comparing coefficients for the 25 degree polynomial\n",
    "original_coeffs = np.random.rand(26)  # Coefficients from gen_data()\n",
    "estimated_coeffs_25 = coefficients[-1]  # Coefficients from the 25 degree model\n",
    "\n",
    "print(\"\\nComparison of Original and Estimated Coefficients for 25 Degree Polynomial:\")\n",
    "print(f\"Original Coefficients: {original_coeffs}\")\n",
    "print(f\"Estimated Coefficients: {estimated_coeffs_25}\")"
   ]
  },
  {
   "cell_type": "code",
   "execution_count": null,
   "metadata": {},
   "outputs": [],
   "source": []
  },
  {
   "cell_type": "code",
   "execution_count": 18,
   "metadata": {
    "id": "KVbMVmm72vhB"
   },
   "outputs": [],
   "source": [
    "# your code here"
   ]
  },
  {
   "cell_type": "markdown",
   "metadata": {},
   "source": [
    "#### Part 1.1 Regularization\n",
    "\n",
    "In this section, you will be required to perform the converse of the previous section. After generating data from a lower degree polynomial, you will try to fit a higher degree polynomial to it. This will result in overfitting. You will then use regularization to reduce the overfitting. Try both L1 and L2 regularization and compare the results."
   ]
  },
  {
   "cell_type": "code",
   "execution_count": 19,
   "metadata": {},
   "outputs": [
    {
     "data": {
      "image/png": "[encoded data removed]",
      "text/plain": [
       "<Figure size 640x480 with 1 Axes>"
      ]
     },
     "metadata": {},
     "output_type": "display_data"
    }
   ],
   "source": [
    "def gen_data_low():\n",
    "    coeff = np.random.rand(np.random.choice([3, 5, 7]))\n",
    "    x = np.linspace(-1.1, 0.9, 100)\n",
    "    y = np.zeros_like(x)\n",
    "    for i, c in enumerate(coeff):\n",
    "        y += c * x**i\n",
    "    y += np.random.randn(100) * 0.1\n",
    "\n",
    "    return x, y\n",
    "\n",
    "predictor_low, response_low = gen_data_low()\n",
    "\n",
    "plt.plot(predictor_low, response_low, 'r+')\n",
    "plt.xlabel('Predictor')\n",
    "plt.ylabel('Response')\n",
    "plt.title('Sampled Data Points')\n",
    "plt.show()"
   ]
  },
  {
   "cell_type": "code",
   "execution_count": 20,
   "metadata": {},
   "outputs": [],
   "source": [
    "# your code here\n",
    "def ridge_regression(X, y, degree, lambda_param):\n",
    "    X_poly = np.ones((len(X), 1))  # Start with a column of ones for beta_0\n",
    "    for i in range(1, degree + 1):\n",
    "        X_poly = np.c_[X_poly, np.power(X, i)]\n",
    "    \n",
    "    # Incorporating L2 regularization\n",
    "    I = np.eye(X_poly.shape[1])\n",
    "    I[0, 0] = 0  # Excluding bias term from regularization\n",
    "    beta = np.linalg.inv(X_poly.T.dot(X_poly) + lambda_param * I).dot(X_poly.T).dot(y)\n",
    "    \n",
    "    return beta"
   ]
  },
  {
   "cell_type": "code",
   "execution_count": 21,
   "metadata": {},
   "outputs": [],
   "source": [
    "# Choosing a high degree for overfitting demonstration\n",
    "degree_high = 15"
   ]
  },
  {
   "cell_type": "code",
   "execution_count": 22,
   "metadata": {},
   "outputs": [],
   "source": [
    "# L2 Regularization parameter\n",
    "lambda_param = 0.1"
   ]
  },
  {
   "cell_type": "code",
   "execution_count": 23,
   "metadata": {},
   "outputs": [],
   "source": [
    "# Fit with Ridge regularization\n",
    "beta_ridge = ridge_regression(predictor_low, response_low, degree_high, lambda_param)\n"
   ]
  },
  {
   "cell_type": "code",
   "execution_count": 24,
   "metadata": {},
   "outputs": [],
   "source": [
    "beta_with_no_regularization = ridge_regression(predictor_low,response_low,degree_high,0)"
   ]
  },
  {
   "cell_type": "code",
   "execution_count": 25,
   "metadata": {},
   "outputs": [],
   "source": [
    "from sklearn.linear_model import Lasso\n",
    "from sklearn.preprocessing import PolynomialFeatures\n"
   ]
  },
  {
   "cell_type": "code",
   "execution_count": 26,
   "metadata": {},
   "outputs": [
    {
     "data": {
      "text/html": [
       "<style>#sk-container-id-1 {color: black;}#sk-container-id-1 pre{padding: 0;}#sk-container-id-1 div.sk-toggleable {background-color: white;}#sk-container-id-1 label.sk-toggleable__label {cursor: pointer;display: block;width: 100%;margin-bottom: 0;padding: 0.3em;box-sizing: border-box;text-align: center;}#sk-container-id-1 label.sk-toggleable__label-arrow:before {content: \"▸\";float: left;margin-right: 0.25em;color: #696969;}#sk-container-id-1 label.sk-toggleable__label-arrow:hover:before {color: black;}#sk-container-id-1 div.sk-estimator:hover label.sk-toggleable__label-arrow:before {color: black;}#sk-container-id-1 div.sk-toggleable__content {max-height: 0;max-width: 0;overflow: hidden;text-align: left;background-color: #f0f8ff;}#sk-container-id-1 div.sk-toggleable__content pre {margin: 0.2em;color: black;border-radius: 0.25em;background-color: #f0f8ff;}#sk-container-id-1 input.sk-toggleable__control:checked~div.sk-toggleable__content {max-height: 200px;max-width: 100%;overflow: auto;}#sk-container-id-1 input.sk-toggleable__control:checked~label.sk-toggleable__label-arrow:before {content: \"▾\";}#sk-container-id-1 div.sk-estimator input.sk-toggleable__control:checked~label.sk-toggleable__label {background-color: #d4ebff;}#sk-container-id-1 div.sk-label input.sk-toggleable__control:checked~label.sk-toggleable__label {background-color: #d4ebff;}#sk-container-id-1 input.sk-hidden--visually {border: 0;clip: rect(1px 1px 1px 1px);clip: rect(1px, 1px, 1px, 1px);height: 1px;margin: -1px;overflow: hidden;padding: 0;position: absolute;width: 1px;}#sk-container-id-1 div.sk-estimator {font-family: monospace;background-color: #f0f8ff;border: 1px dotted black;border-radius: 0.25em;box-sizing: border-box;margin-bottom: 0.5em;}#sk-container-id-1 div.sk-estimator:hover {background-color: #d4ebff;}#sk-container-id-1 div.sk-parallel-item::after {content: \"\";width: 100%;border-bottom: 1px solid gray;flex-grow: 1;}#sk-container-id-1 div.sk-label:hover label.sk-toggleable__label {background-color: #d4ebff;}#sk-container-id-1 div.sk-serial::before {content: \"\";position: absolute;border-left: 1px solid gray;box-sizing: border-box;top: 0;bottom: 0;left: 50%;z-index: 0;}#sk-container-id-1 div.sk-serial {display: flex;flex-direction: column;align-items: center;background-color: white;padding-right: 0.2em;padding-left: 0.2em;position: relative;}#sk-container-id-1 div.sk-item {position: relative;z-index: 1;}#sk-container-id-1 div.sk-parallel {display: flex;align-items: stretch;justify-content: center;background-color: white;position: relative;}#sk-container-id-1 div.sk-item::before, #sk-container-id-1 div.sk-parallel-item::before {content: \"\";position: absolute;border-left: 1px solid gray;box-sizing: border-box;top: 0;bottom: 0;left: 50%;z-index: -1;}#sk-container-id-1 div.sk-parallel-item {display: flex;flex-direction: column;z-index: 1;position: relative;background-color: white;}#sk-container-id-1 div.sk-parallel-item:first-child::after {align-self: flex-end;width: 50%;}#sk-container-id-1 div.sk-parallel-item:last-child::after {align-self: flex-start;width: 50%;}#sk-container-id-1 div.sk-parallel-item:only-child::after {width: 0;}#sk-container-id-1 div.sk-dashed-wrapped {border: 1px dashed gray;margin: 0 0.4em 0.5em 0.4em;box-sizing: border-box;padding-bottom: 0.4em;background-color: white;}#sk-container-id-1 div.sk-label label {font-family: monospace;font-weight: bold;display: inline-block;line-height: 1.2em;}#sk-container-id-1 div.sk-label-container {text-align: center;}#sk-container-id-1 div.sk-container {/* jupyter's `normalize.less` sets `[hidden] { display: none; }` but bootstrap.min.css set `[hidden] { display: none !important; }` so we also need the `!important` here to be able to override the default hidden behavior on the sphinx rendered scikit-learn.org. See: https://github.com/scikit-learn/scikit-learn/issues/21755 */display: inline-block !important;position: relative;}#sk-container-id-1 div.sk-text-repr-fallback {display: none;}</style><div id=\"sk-container-id-1\" class=\"sk-top-container\"><div class=\"sk-text-repr-fallback\"><pre>Lasso(alpha=0.01, max_iter=10000)</pre><b>In a Jupyter environment, please rerun this cell to show the HTML representation or trust the notebook. <br />On GitHub, the HTML representation is unable to render, please try loading this page with nbviewer.org.</b></div><div class=\"sk-container\" hidden><div class=\"sk-item\"><div class=\"sk-estimator sk-toggleable\"><input class=\"sk-toggleable__control sk-hidden--visually\" id=\"sk-estimator-id-1\" type=\"checkbox\" checked><label for=\"sk-estimator-id-1\" class=\"sk-toggleable__label sk-toggleable__label-arrow\">Lasso</label><div class=\"sk-toggleable__content\"><pre>Lasso(alpha=0.01, max_iter=10000)</pre></div></div></div></div></div>"
      ],
      "text/plain": [
       "Lasso(alpha=0.01, max_iter=10000)"
      ]
     },
     "execution_count": 26,
     "metadata": {},
     "output_type": "execute_result"
    }
   ],
   "source": [
    "poly_features = PolynomialFeatures(degree = 15)\n",
    "x_poly_lasso = poly_features.fit_transform(predictor_low.reshape(-1,1))\n",
    "\n",
    "# perform lasso regression\n",
    "lasso_reg = Lasso(alpha=0.01,max_iter=10000)\n",
    "lasso_reg.fit(x_poly_lasso,response_low)"
   ]
  },
  {
   "cell_type": "code",
   "execution_count": 27,
   "metadata": {},
   "outputs": [],
   "source": [
    "# predict using the lasso model \n",
    "y_pred_lasso = lasso_reg.predict(x_poly_lasso)"
   ]
  },
  {
   "cell_type": "code",
   "execution_count": 28,
   "metadata": {},
   "outputs": [],
   "source": [
    "mse_lasso = calculate_mse(response_low, y_pred_lasso)"
   ]
  },
  {
   "cell_type": "code",
   "execution_count": 29,
   "metadata": {},
   "outputs": [
    {
     "data": {
      "text/plain": [
       "0.014478516343277006"
      ]
     },
     "execution_count": 29,
     "metadata": {},
     "output_type": "execute_result"
    }
   ],
   "source": [
    "mse_lasso"
   ]
  },
  {
   "cell_type": "code",
   "execution_count": 30,
   "metadata": {},
   "outputs": [],
   "source": [
    "# predicting with no regularization model\n",
    "x_poly_with_no_regularization = np.ones((len(predictor_low),1))\n",
    "for i in range(1,degree_high +1):\n",
    "    x_poly_with_no_regularization =  np.c_[x_poly_with_no_regularization, np.power(predictor_low,i)]\n",
    "y_pred_with_no_regularization = x_poly_with_no_regularization.dot(beta_with_no_regularization)"
   ]
  },
  {
   "cell_type": "code",
   "execution_count": 31,
   "metadata": {},
   "outputs": [],
   "source": [
    "mse_with_no_regularization = calculate_mse(response_low,y_pred_with_no_regularization)"
   ]
  },
  {
   "cell_type": "code",
   "execution_count": 32,
   "metadata": {},
   "outputs": [
    {
     "data": {
      "text/plain": [
       "0.006989074591749983"
      ]
     },
     "execution_count": 32,
     "metadata": {},
     "output_type": "execute_result"
    }
   ],
   "source": [
    "mse_with_no_regularization"
   ]
  },
  {
   "cell_type": "code",
   "execution_count": 33,
   "metadata": {},
   "outputs": [],
   "source": [
    "# Predicting with Ridge model\n",
    "X_poly_ridge = np.ones((len(predictor_low), 1))\n",
    "for i in range(1, degree_high + 1):\n",
    "    X_poly_ridge = np.c_[X_poly_ridge, np.power(predictor_low, i)]\n",
    "y_pred_ridge = X_poly_ridge.dot(beta_ridge)\n"
   ]
  },
  {
   "cell_type": "code",
   "execution_count": 34,
   "metadata": {},
   "outputs": [],
   "source": [
    "mse_ridge = calculate_mse(response_low,y_pred_ridge)"
   ]
  },
  {
   "cell_type": "code",
   "execution_count": 35,
   "metadata": {},
   "outputs": [
    {
     "data": {
      "text/plain": [
       "0.007554519718130915"
      ]
     },
     "execution_count": 35,
     "metadata": {},
     "output_type": "execute_result"
    }
   ],
   "source": [
    "mse_ridge"
   ]
  },
  {
   "cell_type": "code",
   "execution_count": 36,
   "metadata": {},
   "outputs": [
    {
     "data": {
      "image/png": "[encoded data removed]",
      "text/plain": [
       "<Figure size 1000x600 with 1 Axes>"
      ]
     },
     "metadata": {},
     "output_type": "display_data"
    }
   ],
   "source": [
    "# Plotting the results\n",
    "plt.figure(figsize=(10, 6))\n",
    "plt.plot(predictor_low, response_low, 'r+', label='Original Data')\n",
    "plt.plot(predictor_low, y_pred_ridge, label='Ridge Regression', linewidth=2)\n",
    "plt.plot(predictor_low,y_pred_with_no_regularization,label = 'No regularizaton', linewidth = 1)\n",
    "plt.plot(predictor_low,y_pred_lasso,label  = 'lasso regression',linewidth = 2)\n",
    "plt.xlabel('Predictor')\n",
    "plt.ylabel('Response')\n",
    "plt.title('fitting higher degree polynomial with regualrization')\n",
    "plt.legend()\n",
    "plt.show()"
   ]
  },
  {
   "cell_type": "code",
   "execution_count": null,
   "metadata": {},
   "outputs": [],
   "source": []
  },
  {
   "cell_type": "markdown",
   "metadata": {
    "id": "jvlMEbh_b0pN"
   },
   "source": [
    "### Part 2: Credit Data\n",
    "\n",
    "In this part, we work with the credit.csv file that predicts `Balance` after looking at predictors like `Income`, `Age`, `Limit`, etc. Your task is to understand the relationship between the predictors and response using linear regression techniques. Specifically:\n",
    "\n",
    "1. Perform multiple linear regression on the dataset. $(Y=\\sum\\beta_iX_i+\\epsilon)$\n",
    "2. Test whether all the variables are needed to predict `Balance` or if any of them can be discarded.\n",
    "3. Test for [interaction effects](https://en.wikipedia.org/wiki/Interaction_(statistics)#In_regression) between `Rating` and `Age`.\n",
    "\n",
    "As before, perform the above experiments by obtaining and reporting error metrics for all experiments."
   ]
  },
  {
   "cell_type": "code",
   "execution_count": 37,
   "metadata": {
    "colab": {
     "base_uri": "https://localhost:8080/",
     "height": 206
    },
    "id": "14AuOLx02x-U",
    "outputId": "f2e84637-2475-419c-ea4e-611e5d998a44"
   },
   "outputs": [
    {
     "data": {
      "text/html": [
       "<div>\n",
       "<style scoped>\n",
       "    .dataframe tbody tr th:only-of-type {\n",
       "        vertical-align: middle;\n",
       "    }\n",
       "\n",
       "    .dataframe tbody tr th {\n",
       "        vertical-align: top;\n",
       "    }\n",
       "\n",
       "    .dataframe thead th {\n",
       "        text-align: right;\n",
       "    }\n",
       "</style>\n",
       "<table border=\"1\" class=\"dataframe\">\n",
       "  <thead>\n",
       "    <tr style=\"text-align: right;\">\n",
       "      <th></th>\n",
       "      <th>Income</th>\n",
       "      <th>Limit</th>\n",
       "      <th>Rating</th>\n",
       "      <th>Cards</th>\n",
       "      <th>Age</th>\n",
       "      <th>Education</th>\n",
       "      <th>Balance</th>\n",
       "    </tr>\n",
       "  </thead>\n",
       "  <tbody>\n",
       "    <tr>\n",
       "      <th>0</th>\n",
       "      <td>14.891</td>\n",
       "      <td>3606</td>\n",
       "      <td>283</td>\n",
       "      <td>2</td>\n",
       "      <td>34</td>\n",
       "      <td>11</td>\n",
       "      <td>333</td>\n",
       "    </tr>\n",
       "    <tr>\n",
       "      <th>1</th>\n",
       "      <td>106.025</td>\n",
       "      <td>6645</td>\n",
       "      <td>483</td>\n",
       "      <td>3</td>\n",
       "      <td>82</td>\n",
       "      <td>15</td>\n",
       "      <td>903</td>\n",
       "    </tr>\n",
       "    <tr>\n",
       "      <th>2</th>\n",
       "      <td>104.593</td>\n",
       "      <td>7075</td>\n",
       "      <td>514</td>\n",
       "      <td>4</td>\n",
       "      <td>71</td>\n",
       "      <td>11</td>\n",
       "      <td>580</td>\n",
       "    </tr>\n",
       "    <tr>\n",
       "      <th>3</th>\n",
       "      <td>148.924</td>\n",
       "      <td>9504</td>\n",
       "      <td>681</td>\n",
       "      <td>3</td>\n",
       "      <td>36</td>\n",
       "      <td>11</td>\n",
       "      <td>964</td>\n",
       "    </tr>\n",
       "    <tr>\n",
       "      <th>4</th>\n",
       "      <td>55.882</td>\n",
       "      <td>4897</td>\n",
       "      <td>357</td>\n",
       "      <td>2</td>\n",
       "      <td>68</td>\n",
       "      <td>16</td>\n",
       "      <td>331</td>\n",
       "    </tr>\n",
       "  </tbody>\n",
       "</table>\n",
       "</div>"
      ],
      "text/plain": [
       "    Income  Limit  Rating  Cards  Age  Education  Balance\n",
       "0   14.891   3606     283      2   34         11      333\n",
       "1  106.025   6645     483      3   82         15      903\n",
       "2  104.593   7075     514      4   71         11      580\n",
       "3  148.924   9504     681      3   36         11      964\n",
       "4   55.882   4897     357      2   68         16      331"
      ]
     },
     "execution_count": 37,
     "metadata": {},
     "output_type": "execute_result"
    }
   ],
   "source": [
    "credit = pd.read_csv('credit.csv')\n",
    "credit.head()"
   ]
  },
  {
   "cell_type": "code",
   "execution_count": 38,
   "metadata": {},
   "outputs": [],
   "source": [
    "# Separate predictors (X) and response variable (Y)\n",
    "X = credit[['Income', 'Limit', 'Rating', 'Cards', 'Age', 'Education']]\n",
    "Y = credit['Balance']"
   ]
  },
  {
   "cell_type": "code",
   "execution_count": 39,
   "metadata": {},
   "outputs": [],
   "source": [
    "# Function to normalize features\n",
    "def normalize_features(X):\n",
    "    return (X - X.mean()) / X.std()"
   ]
  },
  {
   "cell_type": "code",
   "execution_count": 40,
   "metadata": {},
   "outputs": [],
   "source": [
    "# Function to perform gradient descent for linear regression\n",
    "def gradient_descent(X, Y, alpha, num_iterations):\n",
    "    m = len(Y)\n",
    "    ones = np.ones((m, 1))\n",
    "    X = np.concatenate((ones, X), axis=1)  # Adding a column of ones for the bias term\n",
    "    theta = np.zeros(X.shape[1])  # Initialize parameters to zeros\n",
    "\n",
    "    for _ in range(num_iterations):\n",
    "        error = np.dot(X, theta) - Y\n",
    "        gradient = np.dot(X.T, error) / m\n",
    "        theta -= alpha * gradient\n",
    "\n",
    "    return theta\n"
   ]
  },
  {
   "cell_type": "code",
   "execution_count": 41,
   "metadata": {},
   "outputs": [],
   "source": [
    "# Function to calculate Mean Squared Error (MSE)\n",
    "def mean_squared_error(X, Y, theta):\n",
    "    m = len(Y)\n",
    "    ones = np.ones((m, 1))\n",
    "    X = np.concatenate((ones, X), axis=1)  # Adding a column of ones for the bias term\n",
    "    predicted_values = np.dot(X, theta)\n",
    "    mse = np.sum((predicted_values - Y) ** 2) / m\n",
    "    return mse"
   ]
  },
  {
   "cell_type": "code",
   "execution_count": 42,
   "metadata": {},
   "outputs": [],
   "source": [
    "# Normalize features\n",
    "X = normalize_features(X)\n"
   ]
  },
  {
   "cell_type": "code",
   "execution_count": 43,
   "metadata": {},
   "outputs": [],
   "source": [
    "# Set hyperparameters\n",
    "alpha = 0.01  # Learning rate\n",
    "num_iterations = 1000"
   ]
  },
  {
   "cell_type": "code",
   "execution_count": 44,
   "metadata": {},
   "outputs": [],
   "source": [
    "# Perform gradient descent\n",
    "theta = gradient_descent(X, Y, alpha, num_iterations)"
   ]
  },
  {
   "cell_type": "code",
   "execution_count": 45,
   "metadata": {},
   "outputs": [],
   "source": [
    "# Calculate Mean Squared Error (MSE)\n",
    "mse_credit= mean_squared_error(X, Y, theta)\n"
   ]
  },
  {
   "cell_type": "code",
   "execution_count": 46,
   "metadata": {},
   "outputs": [
    {
     "data": {
      "text/plain": [
       "25948.66473717143"
      ]
     },
     "execution_count": 46,
     "metadata": {},
     "output_type": "execute_result"
    }
   ],
   "source": [
    "mse_credit"
   ]
  },
  {
   "cell_type": "code",
   "execution_count": 47,
   "metadata": {},
   "outputs": [
    {
     "name": "stdout",
     "output_type": "stream",
     "text": [
      "Learned Parameters (theta): [ 519.9925503  -239.21431532  292.81228739  292.36700292   18.44934523\n",
      "  -18.56518876    6.45586425]\n",
      "Mean Squared Error (MSE): 0.06563190066064663\n"
     ]
    }
   ],
   "source": [
    "# Display the learned parameters and MSE\n",
    "print(\"Learned Parameters (theta):\", theta)\n",
    "print(\"Mean Squared Error (MSE):\", mse)"
   ]
  },
  {
   "cell_type": "code",
   "execution_count": 48,
   "metadata": {},
   "outputs": [],
   "source": [
    "from scipy import stats\n",
    "# Function to perform hypothesis testing and variable selection\n",
    "def variable_selection(X, Y, alpha, num_iterations, significance_level):\n",
    "    m = len(Y)\n",
    "    n = X.shape[1]\n",
    "\n",
    "    # Normalize features\n",
    "    X_normalized = normalize_features(X)\n",
    "\n",
    "    # Perform gradient descent\n",
    "    theta = gradient_descent(X_normalized, Y, alpha, num_iterations)\n",
    "\n",
    "    # Calculate Mean Squared Error (MSE)\n",
    "    mse_full_model = mean_squared_error(X_normalized, Y, theta)\n",
    "\n",
    "    # Test each variable\n",
    "    for i in range(n):\n",
    "        # Exclude the variable and fit the model\n",
    "        X_temp = np.delete(X_normalized, i, axis=1)\n",
    "        theta_temp = gradient_descent(X_temp, Y, alpha, num_iterations)\n",
    "\n",
    "        # Calculate MSE for the reduced model\n",
    "        mse_reduced_model = mean_squared_error(X_temp, Y, theta_temp)\n",
    "\n",
    "        # Calculate F-statistic and p-value\n",
    "        f_statistic = ((mse_reduced_model - mse_full_model) / (n - 1)) / (mse_full_model / (m - n))\n",
    "        p_value = 1 - stats.f.cdf(f_statistic, 1, m - n)\n",
    "\n",
    "        # Print results\n",
    "        print(f\"Variable {i + 1}: F-statistic = {f_statistic}, p-value = {p_value}\")\n",
    "\n",
    "        # Check significance and print a message\n",
    "        if p_value < significance_level:\n",
    "            print(f\"Variable {i + 1} is significant.\")\n",
    "        else:\n",
    "            print(f\"Variable {i + 1} is not significant and can be discarded.\")\n"
   ]
  },
  {
   "cell_type": "code",
   "execution_count": 49,
   "metadata": {},
   "outputs": [],
   "source": [
    "significance_level = 0.05  "
   ]
  },
  {
   "cell_type": "code",
   "execution_count": 50,
   "metadata": {},
   "outputs": [
    {
     "name": "stdout",
     "output_type": "stream",
     "text": [
      "Variable 1: F-statistic = 76.69680593465729, p-value = 1.1102230246251565e-16\n",
      "Variable 1 is significant.\n",
      "Variable 2: F-statistic = 4.361047619960522, p-value = 0.0374112079553609\n",
      "Variable 2 is significant.\n",
      "Variable 3: F-statistic = 4.427511887287855, p-value = 0.035997113350532906\n",
      "Variable 3 is significant.\n",
      "Variable 4: F-statistic = 0.778663847330291, p-value = 0.3780881372102085\n",
      "Variable 4 is not significant and can be discarded.\n",
      "Variable 5: F-statistic = 0.6339997244726316, p-value = 0.4263714611662289\n",
      "Variable 5 is not significant and can be discarded.\n",
      "Variable 6: F-statistic = 0.11564785781947394, p-value = 0.7339847573443632\n",
      "Variable 6 is not significant and can be discarded.\n"
     ]
    }
   ],
   "source": [
    "# Perform variable selection\n",
    "variable_selection(X, Y, alpha, num_iterations, significance_level)"
   ]
  },
  {
   "cell_type": "code",
   "execution_count": 51,
   "metadata": {},
   "outputs": [],
   "source": [
    "discarded_variable_index = 2"
   ]
  },
  {
   "cell_type": "code",
   "execution_count": 52,
   "metadata": {},
   "outputs": [],
   "source": [
    "new_X = X [['Income','Limit','Rating']]"
   ]
  },
  {
   "cell_type": "code",
   "execution_count": 53,
   "metadata": {},
   "outputs": [],
   "source": [
    "new_X = normalize_features(new_X)"
   ]
  },
  {
   "cell_type": "code",
   "execution_count": 57,
   "metadata": {},
   "outputs": [],
   "source": [
    "new_theta = gradient_descent(new_X,Y,alpha,num_iterations)"
   ]
  },
  {
   "cell_type": "code",
   "execution_count": 58,
   "metadata": {},
   "outputs": [],
   "source": [
    "new_mse_credit = mean_squared_error(new_X,Y,new_theta)"
   ]
  },
  {
   "cell_type": "code",
   "execution_count": 59,
   "metadata": {},
   "outputs": [
    {
     "data": {
      "text/plain": [
       "26418.634398959613"
      ]
     },
     "execution_count": 59,
     "metadata": {},
     "output_type": "execute_result"
    }
   ],
   "source": [
    "new_mse_credit"
   ]
  },
  {
   "cell_type": "code",
   "execution_count": 60,
   "metadata": {},
   "outputs": [],
   "source": [
    "# 3. test for interaction effects between rating and age\n",
    "\n",
    "credit['Rating_Age_Interaction'] = credit['Rating'] * credit['Age']\n",
    "X_interaction = credit[['Income', 'Limit', 'Rating', 'Cards', 'Age', 'Education', 'Rating_Age_Interaction']]\n",
    "# X_interaction = sm.add_constant(X_interaction)"
   ]
  },
  {
   "cell_type": "code",
   "execution_count": 61,
   "metadata": {},
   "outputs": [
    {
     "data": {
      "text/html": [
       "<div>\n",
       "<style scoped>\n",
       "    .dataframe tbody tr th:only-of-type {\n",
       "        vertical-align: middle;\n",
       "    }\n",
       "\n",
       "    .dataframe tbody tr th {\n",
       "        vertical-align: top;\n",
       "    }\n",
       "\n",
       "    .dataframe thead th {\n",
       "        text-align: right;\n",
       "    }\n",
       "</style>\n",
       "<table border=\"1\" class=\"dataframe\">\n",
       "  <thead>\n",
       "    <tr style=\"text-align: right;\">\n",
       "      <th></th>\n",
       "      <th>Income</th>\n",
       "      <th>Limit</th>\n",
       "      <th>Rating</th>\n",
       "      <th>Cards</th>\n",
       "      <th>Age</th>\n",
       "      <th>Education</th>\n",
       "      <th>Rating_Age_Interaction</th>\n",
       "    </tr>\n",
       "  </thead>\n",
       "  <tbody>\n",
       "    <tr>\n",
       "      <th>0</th>\n",
       "      <td>14.891</td>\n",
       "      <td>3606</td>\n",
       "      <td>283</td>\n",
       "      <td>2</td>\n",
       "      <td>34</td>\n",
       "      <td>11</td>\n",
       "      <td>9622</td>\n",
       "    </tr>\n",
       "    <tr>\n",
       "      <th>1</th>\n",
       "      <td>106.025</td>\n",
       "      <td>6645</td>\n",
       "      <td>483</td>\n",
       "      <td>3</td>\n",
       "      <td>82</td>\n",
       "      <td>15</td>\n",
       "      <td>39606</td>\n",
       "    </tr>\n",
       "    <tr>\n",
       "      <th>2</th>\n",
       "      <td>104.593</td>\n",
       "      <td>7075</td>\n",
       "      <td>514</td>\n",
       "      <td>4</td>\n",
       "      <td>71</td>\n",
       "      <td>11</td>\n",
       "      <td>36494</td>\n",
       "    </tr>\n",
       "    <tr>\n",
       "      <th>3</th>\n",
       "      <td>148.924</td>\n",
       "      <td>9504</td>\n",
       "      <td>681</td>\n",
       "      <td>3</td>\n",
       "      <td>36</td>\n",
       "      <td>11</td>\n",
       "      <td>24516</td>\n",
       "    </tr>\n",
       "    <tr>\n",
       "      <th>4</th>\n",
       "      <td>55.882</td>\n",
       "      <td>4897</td>\n",
       "      <td>357</td>\n",
       "      <td>2</td>\n",
       "      <td>68</td>\n",
       "      <td>16</td>\n",
       "      <td>24276</td>\n",
       "    </tr>\n",
       "    <tr>\n",
       "      <th>...</th>\n",
       "      <td>...</td>\n",
       "      <td>...</td>\n",
       "      <td>...</td>\n",
       "      <td>...</td>\n",
       "      <td>...</td>\n",
       "      <td>...</td>\n",
       "      <td>...</td>\n",
       "    </tr>\n",
       "    <tr>\n",
       "      <th>395</th>\n",
       "      <td>12.096</td>\n",
       "      <td>4100</td>\n",
       "      <td>307</td>\n",
       "      <td>3</td>\n",
       "      <td>32</td>\n",
       "      <td>13</td>\n",
       "      <td>9824</td>\n",
       "    </tr>\n",
       "    <tr>\n",
       "      <th>396</th>\n",
       "      <td>13.364</td>\n",
       "      <td>3838</td>\n",
       "      <td>296</td>\n",
       "      <td>5</td>\n",
       "      <td>65</td>\n",
       "      <td>17</td>\n",
       "      <td>19240</td>\n",
       "    </tr>\n",
       "    <tr>\n",
       "      <th>397</th>\n",
       "      <td>57.872</td>\n",
       "      <td>4171</td>\n",
       "      <td>321</td>\n",
       "      <td>5</td>\n",
       "      <td>67</td>\n",
       "      <td>12</td>\n",
       "      <td>21507</td>\n",
       "    </tr>\n",
       "    <tr>\n",
       "      <th>398</th>\n",
       "      <td>37.728</td>\n",
       "      <td>2525</td>\n",
       "      <td>192</td>\n",
       "      <td>1</td>\n",
       "      <td>44</td>\n",
       "      <td>13</td>\n",
       "      <td>8448</td>\n",
       "    </tr>\n",
       "    <tr>\n",
       "      <th>399</th>\n",
       "      <td>18.701</td>\n",
       "      <td>5524</td>\n",
       "      <td>415</td>\n",
       "      <td>5</td>\n",
       "      <td>64</td>\n",
       "      <td>7</td>\n",
       "      <td>26560</td>\n",
       "    </tr>\n",
       "  </tbody>\n",
       "</table>\n",
       "<p>400 rows × 7 columns</p>\n",
       "</div>"
      ],
      "text/plain": [
       "      Income  Limit  Rating  Cards  Age  Education  Rating_Age_Interaction\n",
       "0     14.891   3606     283      2   34         11                    9622\n",
       "1    106.025   6645     483      3   82         15                   39606\n",
       "2    104.593   7075     514      4   71         11                   36494\n",
       "3    148.924   9504     681      3   36         11                   24516\n",
       "4     55.882   4897     357      2   68         16                   24276\n",
       "..       ...    ...     ...    ...  ...        ...                     ...\n",
       "395   12.096   4100     307      3   32         13                    9824\n",
       "396   13.364   3838     296      5   65         17                   19240\n",
       "397   57.872   4171     321      5   67         12                   21507\n",
       "398   37.728   2525     192      1   44         13                    8448\n",
       "399   18.701   5524     415      5   64          7                   26560\n",
       "\n",
       "[400 rows x 7 columns]"
      ]
     },
     "execution_count": 61,
     "metadata": {},
     "output_type": "execute_result"
    }
   ],
   "source": [
    "X_interaction"
   ]
  },
  {
   "cell_type": "code",
   "execution_count": 62,
   "metadata": {},
   "outputs": [],
   "source": [
    "X_interaction = normalize_features(X_interaction)"
   ]
  },
  {
   "cell_type": "code",
   "execution_count": 63,
   "metadata": {},
   "outputs": [],
   "source": [
    "theta_interaction = gradient_descent(X_interaction,Y,alpha,num_iterations)"
   ]
  },
  {
   "cell_type": "code",
   "execution_count": 64,
   "metadata": {},
   "outputs": [],
   "source": [
    "mse_with_interaction = mean_squared_error(X_interaction,Y,theta_interaction)"
   ]
  },
  {
   "cell_type": "code",
   "execution_count": 65,
   "metadata": {},
   "outputs": [
    {
     "data": {
      "text/plain": [
       "26588.589920835755"
      ]
     },
     "execution_count": 65,
     "metadata": {},
     "output_type": "execute_result"
    }
   ],
   "source": [
    "mse_with_interaction"
   ]
  },
  {
   "cell_type": "code",
   "execution_count": null,
   "metadata": {},
   "outputs": [],
   "source": []
  },
  {
   "cell_type": "code",
   "execution_count": null,
   "metadata": {},
   "outputs": [],
   "source": []
  },
  {
   "cell_type": "code",
   "execution_count": null,
   "metadata": {},
   "outputs": [],
   "source": []
  },
  {
   "cell_type": "code",
   "execution_count": null,
   "metadata": {},
   "outputs": [],
   "source": []
  },
  {
   "cell_type": "code",
   "execution_count": null,
   "metadata": {},
   "outputs": [],
   "source": []
  },
  {
   "cell_type": "markdown",
   "metadata": {
    "id": "wDFv0bB-0Wfx"
   },
   "source": [
    "### Part 3: Shark Attacks\n",
    "\n",
    "This is a fun dataset that aims to predict the number of shark attacks (`SharkAttacks`) using variables like `Year`, `Month`, `Temperature`, and `IceCreamSales`. This dataset has been used in popular media to show how correlation does not imply causation. Test whether predictions made with ice cream sales data are any better/worse than predictions made by neglecting ice cream sales data.\n",
    "\n",
    "This sort of analysis reminds us that it is important to look at the data before using it for learning representations."
   ]
  },
  {
   "cell_type": "code",
   "execution_count": 68,
   "metadata": {
    "colab": {
     "base_uri": "https://localhost:8080/",
     "height": 206
    },
    "id": "GgftPmoIDChS",
    "outputId": "07e449f9-be77-4155-ccee-6b8efe63f544"
   },
   "outputs": [
    {
     "data": {
      "text/html": [
       "<div>\n",
       "<style scoped>\n",
       "    .dataframe tbody tr th:only-of-type {\n",
       "        vertical-align: middle;\n",
       "    }\n",
       "\n",
       "    .dataframe tbody tr th {\n",
       "        vertical-align: top;\n",
       "    }\n",
       "\n",
       "    .dataframe thead th {\n",
       "        text-align: right;\n",
       "    }\n",
       "</style>\n",
       "<table border=\"1\" class=\"dataframe\">\n",
       "  <thead>\n",
       "    <tr style=\"text-align: right;\">\n",
       "      <th></th>\n",
       "      <th>Year</th>\n",
       "      <th>Month</th>\n",
       "      <th>SharkAttacks</th>\n",
       "      <th>Temperature</th>\n",
       "      <th>IceCreamSales</th>\n",
       "    </tr>\n",
       "  </thead>\n",
       "  <tbody>\n",
       "    <tr>\n",
       "      <th>0</th>\n",
       "      <td>2008</td>\n",
       "      <td>1</td>\n",
       "      <td>25</td>\n",
       "      <td>11.9</td>\n",
       "      <td>76</td>\n",
       "    </tr>\n",
       "    <tr>\n",
       "      <th>1</th>\n",
       "      <td>2008</td>\n",
       "      <td>2</td>\n",
       "      <td>28</td>\n",
       "      <td>15.2</td>\n",
       "      <td>79</td>\n",
       "    </tr>\n",
       "    <tr>\n",
       "      <th>2</th>\n",
       "      <td>2008</td>\n",
       "      <td>3</td>\n",
       "      <td>32</td>\n",
       "      <td>17.2</td>\n",
       "      <td>91</td>\n",
       "    </tr>\n",
       "    <tr>\n",
       "      <th>3</th>\n",
       "      <td>2008</td>\n",
       "      <td>4</td>\n",
       "      <td>35</td>\n",
       "      <td>18.5</td>\n",
       "      <td>95</td>\n",
       "    </tr>\n",
       "    <tr>\n",
       "      <th>4</th>\n",
       "      <td>2008</td>\n",
       "      <td>5</td>\n",
       "      <td>38</td>\n",
       "      <td>19.4</td>\n",
       "      <td>103</td>\n",
       "    </tr>\n",
       "  </tbody>\n",
       "</table>\n",
       "</div>"
      ],
      "text/plain": [
       "   Year  Month  SharkAttacks  Temperature  IceCreamSales\n",
       "0  2008      1            25         11.9             76\n",
       "1  2008      2            28         15.2             79\n",
       "2  2008      3            32         17.2             91\n",
       "3  2008      4            35         18.5             95\n",
       "4  2008      5            38         19.4            103"
      ]
     },
     "execution_count": 68,
     "metadata": {},
     "output_type": "execute_result"
    }
   ],
   "source": [
    "sharks = pd.read_csv('shark_attacks.csv')\n",
    "sharks.head()"
   ]
  },
  {
   "cell_type": "code",
   "execution_count": 69,
   "metadata": {
    "id": "FVLNM47UDWNV"
   },
   "outputs": [],
   "source": [
    "# your code here"
   ]
  },
  {
   "cell_type": "code",
   "execution_count": 70,
   "metadata": {},
   "outputs": [],
   "source": [
    "X = sharks[['Year', 'Month', 'Temperature', 'IceCreamSales']]\n",
    "y = sharks['SharkAttacks']"
   ]
  },
  {
   "cell_type": "code",
   "execution_count": 71,
   "metadata": {},
   "outputs": [],
   "source": [
    "train_size = int(0.8 * len(X))\n",
    "X_train = X[:train_size]\n",
    "y_train = y[:train_size]\n",
    "X_test = X[train_size:]\n",
    "y_test = y[train_size:]"
   ]
  },
  {
   "cell_type": "code",
   "execution_count": 72,
   "metadata": {},
   "outputs": [],
   "source": [
    "def linear_regression(X, y):\n",
    "    X = np.column_stack((np.ones(len(X)), X))  # Add a column of ones for the intercept\n",
    "    coefficients = np.linalg.inv(X.T @ X) @ X.T @ y\n",
    "    return coefficients"
   ]
  },
  {
   "cell_type": "code",
   "execution_count": 73,
   "metadata": {},
   "outputs": [],
   "source": [
    "coefficients_with_ice_cream = linear_regression(X_train, y_train)\n"
   ]
  },
  {
   "cell_type": "code",
   "execution_count": 74,
   "metadata": {},
   "outputs": [],
   "source": [
    "coefficients_without_ice_cream =linear_regression(X_train[['Year', 'Month', 'Temperature']], y_train)"
   ]
  },
  {
   "cell_type": "code",
   "execution_count": 75,
   "metadata": {},
   "outputs": [],
   "source": [
    "def manual_predict(coefficients, X):\n",
    "    X = np.column_stack((np.ones(len(X)), X))\n",
    "    predictions = X @ coefficients\n",
    "    return predictions\n"
   ]
  },
  {
   "cell_type": "code",
   "execution_count": 76,
   "metadata": {},
   "outputs": [],
   "source": [
    "\n",
    "y_pred_with_ice_cream = manual_predict(coefficients_with_ice_cream, X_test)\n"
   ]
  },
  {
   "cell_type": "code",
   "execution_count": 77,
   "metadata": {},
   "outputs": [],
   "source": [
    "y_pred_without_ice_cream = manual_predict(coefficients_without_ice_cream, X_test[['Year', 'Month', 'Temperature']])"
   ]
  },
  {
   "cell_type": "code",
   "execution_count": 78,
   "metadata": {},
   "outputs": [],
   "source": [
    "mse_with_ice_cream = np.mean((y_test - y_pred_with_ice_cream) ** 2)\n",
    "mse_without_ice_cream = np.mean((y_test - y_pred_without_ice_cream) ** 2)"
   ]
  },
  {
   "cell_type": "code",
   "execution_count": 79,
   "metadata": {},
   "outputs": [
    {
     "data": {
      "text/plain": [
       "69.93373844674238"
      ]
     },
     "execution_count": 79,
     "metadata": {},
     "output_type": "execute_result"
    }
   ],
   "source": [
    "mse_with_ice_cream"
   ]
  },
  {
   "cell_type": "code",
   "execution_count": 80,
   "metadata": {},
   "outputs": [
    {
     "data": {
      "text/plain": [
       "78.89088979938641"
      ]
     },
     "execution_count": 80,
     "metadata": {},
     "output_type": "execute_result"
    }
   ],
   "source": [
    "mse_without_ice_cream"
   ]
  },
  {
   "cell_type": "code",
   "execution_count": null,
   "metadata": {},
   "outputs": [],
   "source": []
  }
 ],
 "metadata": {
  "colab": {
   "provenance": []
  },
  "kernelspec": {
   "display_name": "Python 3 (ipykernel)",
   "language": "python",
   "name": "python3"
  },
  "language_info": {
   "codemirror_mode": {
    "name": "ipython",
    "version": 3
   },
   "file_extension": ".py",
   "mimetype": "text/x-python",
   "name": "python",
   "nbconvert_exporter": "python",
   "pygments_lexer": "ipython3",
   "version": "3.11.6"
  }
 },
 "nbformat": 4,
 "nbformat_minor": 1
}
